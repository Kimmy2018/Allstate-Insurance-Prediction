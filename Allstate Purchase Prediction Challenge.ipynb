{
 "cells": [
  {
   "cell_type": "markdown",
   "metadata": {},
   "source": [
    "\n",
    "# Allstate Car Insurance Online Purchase Prediction"
   ]
  },
  {
   "cell_type": "markdown",
   "metadata": {},
   "source": [
    "Author: Kemei Zhuo\n",
    "\n",
    "Note: this work is built upon my class group project. My group members are Alyson Brown, Teeru Gupta, Jihyun Lee. Below I summarized my work and what I explored after this project."
   ]
  },
  {
   "cell_type": "markdown",
   "metadata": {},
   "source": [
    "### Summary: \n",
    "\n",
    "Given a customer's shopping history, what type of insurance would this customer purchase in the end? \n",
    "\n",
    "Through Exploratory Data Analysis, I found that first, most customers would purchase the insurance within one day, and the majority of them would buy insurance during weekdays, especially on Friday; second, the types of insurance products are correlated with each other (type C and D); third, customers would buy the insurance types that they searched the most and they recently looked at; fourth, price change is not a significant predictor of purchasing for every customer. After Exploratory Data Analysis, I used classification models such as k-nearest neighbors, naivebayes, and random forest to predict the type of insurance the customer would purchase.  \n",
    "\n",
    "The key takeaways for Allstate is: it needs to follow up the customers immediately because customers usually make purchases within a day. Allstate can use both demographic information and shopping history to predict the potential purchase and send follow-up emails to these customers with discounts. Allstate can also relocate its resources because most customers shop around during weekdays. \n",
    "\n"
   ]
  },
  {
   "cell_type": "markdown",
   "metadata": {},
   "source": [
    "\n",
    "\n",
    "### Our challenge:\n",
    "\n",
    "    As a customer shops an insurance policy, he/she will get a quote with selected coverage many times before he/she actually makes a purchase. Given the information about the customer, information about the quoted policy, and the quoted price, Allstate is interested in knowing which policy would a customer purchase. Besides the prediction, we are also interested in knowing what collection of customers are buying each insurance product and how we can convert a shopper into a purchaser. \n",
    "    \n"
   ]
  },
  {
   "cell_type": "markdown",
   "metadata": {},
   "source": [
    "### Dataset Description"
   ]
  },
  {
   "cell_type": "code",
   "execution_count": 6,
   "metadata": {},
   "outputs": [],
   "source": [
    "import pandas as pd\n",
    "df = pd.read_csv('train.csv', sep=',')"
   ]
  },
  {
   "cell_type": "code",
   "execution_count": 7,
   "metadata": {},
   "outputs": [
    {
     "data": {
      "text/html": [
       "<div>\n",
       "<style scoped>\n",
       "    .dataframe tbody tr th:only-of-type {\n",
       "        vertical-align: middle;\n",
       "    }\n",
       "\n",
       "    .dataframe tbody tr th {\n",
       "        vertical-align: top;\n",
       "    }\n",
       "\n",
       "    .dataframe thead th {\n",
       "        text-align: right;\n",
       "    }\n",
       "</style>\n",
       "<table border=\"1\" class=\"dataframe\">\n",
       "  <thead>\n",
       "    <tr style=\"text-align: right;\">\n",
       "      <th></th>\n",
       "      <th>customer_ID</th>\n",
       "      <th>shopping_pt</th>\n",
       "      <th>record_type</th>\n",
       "      <th>day</th>\n",
       "      <th>time</th>\n",
       "      <th>state</th>\n",
       "      <th>location</th>\n",
       "      <th>group_size</th>\n",
       "      <th>homeowner</th>\n",
       "      <th>car_age</th>\n",
       "      <th>...</th>\n",
       "      <th>C_previous</th>\n",
       "      <th>duration_previous</th>\n",
       "      <th>A</th>\n",
       "      <th>B</th>\n",
       "      <th>C</th>\n",
       "      <th>D</th>\n",
       "      <th>E</th>\n",
       "      <th>F</th>\n",
       "      <th>G</th>\n",
       "      <th>cost</th>\n",
       "    </tr>\n",
       "  </thead>\n",
       "  <tbody>\n",
       "    <tr>\n",
       "      <th>9</th>\n",
       "      <td>10000005</td>\n",
       "      <td>1</td>\n",
       "      <td>0</td>\n",
       "      <td>3</td>\n",
       "      <td>8:56</td>\n",
       "      <td>NY</td>\n",
       "      <td>10006</td>\n",
       "      <td>1</td>\n",
       "      <td>0</td>\n",
       "      <td>10</td>\n",
       "      <td>...</td>\n",
       "      <td>3.0</td>\n",
       "      <td>13.0</td>\n",
       "      <td>1</td>\n",
       "      <td>1</td>\n",
       "      <td>3</td>\n",
       "      <td>3</td>\n",
       "      <td>1</td>\n",
       "      <td>0</td>\n",
       "      <td>2</td>\n",
       "      <td>755</td>\n",
       "    </tr>\n",
       "    <tr>\n",
       "      <th>10</th>\n",
       "      <td>10000005</td>\n",
       "      <td>2</td>\n",
       "      <td>0</td>\n",
       "      <td>3</td>\n",
       "      <td>8:56</td>\n",
       "      <td>NY</td>\n",
       "      <td>10006</td>\n",
       "      <td>1</td>\n",
       "      <td>0</td>\n",
       "      <td>10</td>\n",
       "      <td>...</td>\n",
       "      <td>3.0</td>\n",
       "      <td>13.0</td>\n",
       "      <td>1</td>\n",
       "      <td>1</td>\n",
       "      <td>3</td>\n",
       "      <td>3</td>\n",
       "      <td>1</td>\n",
       "      <td>0</td>\n",
       "      <td>2</td>\n",
       "      <td>755</td>\n",
       "    </tr>\n",
       "    <tr>\n",
       "      <th>11</th>\n",
       "      <td>10000005</td>\n",
       "      <td>3</td>\n",
       "      <td>0</td>\n",
       "      <td>3</td>\n",
       "      <td>8:57</td>\n",
       "      <td>NY</td>\n",
       "      <td>10006</td>\n",
       "      <td>1</td>\n",
       "      <td>0</td>\n",
       "      <td>10</td>\n",
       "      <td>...</td>\n",
       "      <td>3.0</td>\n",
       "      <td>13.0</td>\n",
       "      <td>1</td>\n",
       "      <td>1</td>\n",
       "      <td>3</td>\n",
       "      <td>3</td>\n",
       "      <td>1</td>\n",
       "      <td>0</td>\n",
       "      <td>2</td>\n",
       "      <td>755</td>\n",
       "    </tr>\n",
       "    <tr>\n",
       "      <th>12</th>\n",
       "      <td>10000005</td>\n",
       "      <td>4</td>\n",
       "      <td>0</td>\n",
       "      <td>3</td>\n",
       "      <td>8:58</td>\n",
       "      <td>NY</td>\n",
       "      <td>10006</td>\n",
       "      <td>1</td>\n",
       "      <td>0</td>\n",
       "      <td>10</td>\n",
       "      <td>...</td>\n",
       "      <td>3.0</td>\n",
       "      <td>13.0</td>\n",
       "      <td>0</td>\n",
       "      <td>0</td>\n",
       "      <td>3</td>\n",
       "      <td>2</td>\n",
       "      <td>0</td>\n",
       "      <td>0</td>\n",
       "      <td>2</td>\n",
       "      <td>730</td>\n",
       "    </tr>\n",
       "    <tr>\n",
       "      <th>13</th>\n",
       "      <td>10000005</td>\n",
       "      <td>5</td>\n",
       "      <td>0</td>\n",
       "      <td>3</td>\n",
       "      <td>8:58</td>\n",
       "      <td>NY</td>\n",
       "      <td>10006</td>\n",
       "      <td>1</td>\n",
       "      <td>0</td>\n",
       "      <td>10</td>\n",
       "      <td>...</td>\n",
       "      <td>3.0</td>\n",
       "      <td>13.0</td>\n",
       "      <td>0</td>\n",
       "      <td>0</td>\n",
       "      <td>3</td>\n",
       "      <td>2</td>\n",
       "      <td>0</td>\n",
       "      <td>0</td>\n",
       "      <td>2</td>\n",
       "      <td>731</td>\n",
       "    </tr>\n",
       "    <tr>\n",
       "      <th>14</th>\n",
       "      <td>10000005</td>\n",
       "      <td>6</td>\n",
       "      <td>1</td>\n",
       "      <td>3</td>\n",
       "      <td>9:09</td>\n",
       "      <td>NY</td>\n",
       "      <td>10006</td>\n",
       "      <td>1</td>\n",
       "      <td>0</td>\n",
       "      <td>10</td>\n",
       "      <td>...</td>\n",
       "      <td>3.0</td>\n",
       "      <td>13.0</td>\n",
       "      <td>0</td>\n",
       "      <td>0</td>\n",
       "      <td>3</td>\n",
       "      <td>2</td>\n",
       "      <td>0</td>\n",
       "      <td>0</td>\n",
       "      <td>2</td>\n",
       "      <td>731</td>\n",
       "    </tr>\n",
       "  </tbody>\n",
       "</table>\n",
       "<p>6 rows × 25 columns</p>\n",
       "</div>"
      ],
      "text/plain": [
       "    customer_ID  shopping_pt  record_type  day  time state  location  \\\n",
       "9      10000005            1            0    3  8:56    NY     10006   \n",
       "10     10000005            2            0    3  8:56    NY     10006   \n",
       "11     10000005            3            0    3  8:57    NY     10006   \n",
       "12     10000005            4            0    3  8:58    NY     10006   \n",
       "13     10000005            5            0    3  8:58    NY     10006   \n",
       "14     10000005            6            1    3  9:09    NY     10006   \n",
       "\n",
       "    group_size  homeowner  car_age  ...  C_previous  duration_previous  A  B  \\\n",
       "9            1          0       10  ...         3.0               13.0  1  1   \n",
       "10           1          0       10  ...         3.0               13.0  1  1   \n",
       "11           1          0       10  ...         3.0               13.0  1  1   \n",
       "12           1          0       10  ...         3.0               13.0  0  0   \n",
       "13           1          0       10  ...         3.0               13.0  0  0   \n",
       "14           1          0       10  ...         3.0               13.0  0  0   \n",
       "\n",
       "    C  D  E  F  G  cost  \n",
       "9   3  3  1  0  2   755  \n",
       "10  3  3  1  0  2   755  \n",
       "11  3  3  1  0  2   755  \n",
       "12  3  2  0  0  2   730  \n",
       "13  3  2  0  0  2   731  \n",
       "14  3  2  0  0  2   731  \n",
       "\n",
       "[6 rows x 25 columns]"
      ]
     },
     "execution_count": 7,
     "metadata": {},
     "output_type": "execute_result"
    }
   ],
   "source": [
    "df[9:15]"
   ]
  },
  {
   "cell_type": "markdown",
   "metadata": {},
   "source": [
    "\n",
    "The above table is a compete shopping history of a customer labeled as 10000005. \n",
    "\n",
    "The variables are described below:"
   ]
  },
  {
   "cell_type": "markdown",
   "metadata": {},
   "source": [
    "    customer_ID - A unique identifier for the customer\n",
    "\n",
    "    shopping_pt - Unique identifier for the shopping point of a given customer\n",
    "\n",
    "    record_type - 0=shopping point, 1=purchase point\n",
    "\n",
    "    day - Day of the week (0-6, 0=Monday)\n",
    "\n",
    "    time - Time of day (HH:MM)\n",
    "\n",
    "    state - State where shopping point occurred\n",
    "\n",
    "    location - Location ID where shopping point occurred\n",
    "\n",
    "    group_size - How many people will be covered under the policy (1, 2, 3 or 4)\n",
    "\n",
    "    homeowner - Whether the customer owns a home or not (0=no, 1=yes)\n",
    "\n",
    "    car_age - Age of the customer’s car\n",
    "\n",
    "    car_value - How valuable was the customer’s car when new\n",
    "\n",
    "    risk_factor - An ordinal assessment of how risky the customer is (1, 2, 3, 4)\n",
    "\n",
    "    age_oldest - Age of the oldest person in customer's group\n",
    "\n",
    "    age_youngest - Age of the youngest person in customer’s group\n",
    "\n",
    "    married_couple - Does the customer group contain a married couple (0=no, 1=yes)\n",
    "\n",
    "    C_previous - What the customer formerly had or currently has for product option C (0=nothing, 1, 2, 3,4)\n",
    "\n",
    "    duration_previous -  how long (in years) the customer was covered by their previous issuer\n",
    "\n",
    "    A,B,C,D,E,F,G - the coverage options\n",
    "\n",
    "    cost - cost of the quoted coverage options"
   ]
  },
  {
   "cell_type": "markdown",
   "metadata": {},
   "source": [
    "Note here that the A,B,C,D,E,F,G coverage options have different possible values. "
   ]
  },
  {
   "cell_type": "markdown",
   "metadata": {},
   "source": [
    "Option name       |      Possible values\n",
    "\n",
    "A                 |      0, 1, 2\n",
    "\n",
    "B                 |      0, 1\n",
    "\n",
    "C                 |      1, 2, 3, 4\n",
    "\n",
    "D                 |      1, 2, 3\n",
    "\n",
    "E                 |      0, 1\n",
    "\n",
    "F                 |      0, 1, 2, 3\n",
    "\n",
    "G                 |      1, 2, 3, 4"
   ]
  },
  {
   "cell_type": "markdown",
   "metadata": {},
   "source": [
    "The number of customers: "
   ]
  },
  {
   "cell_type": "code",
   "execution_count": 8,
   "metadata": {},
   "outputs": [
    {
     "data": {
      "text/plain": [
       "97009"
      ]
     },
     "execution_count": 8,
     "metadata": {},
     "output_type": "execute_result"
    }
   ],
   "source": [
    "num_customer = sum(df['record_type']==1)\n",
    "num_customer"
   ]
  },
  {
   "cell_type": "markdown",
   "metadata": {},
   "source": [
    "Some columns of the datasets have many NA values."
   ]
  },
  {
   "cell_type": "code",
   "execution_count": 9,
   "metadata": {},
   "outputs": [
    {
     "data": {
      "text/plain": [
       "1531"
      ]
     },
     "execution_count": 9,
     "metadata": {},
     "output_type": "execute_result"
    }
   ],
   "source": [
    "sum(df['car_value'].isna())"
   ]
  },
  {
   "cell_type": "code",
   "execution_count": 10,
   "metadata": {},
   "outputs": [
    {
     "data": {
      "text/plain": [
       "240418"
      ]
     },
     "execution_count": 10,
     "metadata": {},
     "output_type": "execute_result"
    }
   ],
   "source": [
    "sum(df['risk_factor'].isna())"
   ]
  },
  {
   "cell_type": "code",
   "execution_count": 11,
   "metadata": {},
   "outputs": [
    {
     "data": {
      "text/plain": [
       "18711"
      ]
     },
     "execution_count": 11,
     "metadata": {},
     "output_type": "execute_result"
    }
   ],
   "source": [
    "sum(df['C_previous'].isna())"
   ]
  },
  {
   "cell_type": "code",
   "execution_count": 12,
   "metadata": {},
   "outputs": [
    {
     "data": {
      "text/plain": [
       "18711"
      ]
     },
     "execution_count": 12,
     "metadata": {},
     "output_type": "execute_result"
    }
   ],
   "source": [
    "sum(df['duration_previous'].isna())"
   ]
  },
  {
   "cell_type": "markdown",
   "metadata": {},
   "source": [
    "### Exploratory Data Analysis"
   ]
  },
  {
   "cell_type": "code",
   "execution_count": 2,
   "metadata": {},
   "outputs": [
    {
     "name": "stdout",
     "output_type": "stream",
     "text": [
      "Populating the interactive namespace from numpy and matplotlib\n"
     ]
    }
   ],
   "source": [
    "#from IPython.core.interactiveshell import InteractiveShell\n",
    "#InteractiveShell.ast_node_interactivity = \"all\"\n",
    "import seaborn as sns\n",
    "import matplotlib.pyplot as plt\n",
    "%pylab inline"
   ]
  },
  {
   "cell_type": "markdown",
   "metadata": {},
   "source": [
    "#### (1) Shopping_pts\n",
    "Let's first take a look at the \"shopping_pt\". Most people would have 7 or 8 shopping points. The minimum shopping_pts here is 3, which means that customer would get quotes at least 3 times before they finally made a purchase. "
   ]
  },
  {
   "cell_type": "code",
   "execution_count": 3,
   "metadata": {
    "scrolled": true
   },
   "outputs": [
    {
     "data": {
      "text/plain": [
       "<matplotlib.axes._subplots.AxesSubplot at 0x10e9bd68>"
      ]
     },
     "execution_count": 3,
     "metadata": {},
     "output_type": "execute_result"
    },
    {
     "data": {
      "image/png": "[encoded data removed]",
      "text/plain": [
       "<Figure size 432x288 with 1 Axes>"
      ]
     },
     "metadata": {},
     "output_type": "display_data"
    }
   ],
   "source": [
    "mask = df['record_type']==1\n",
    "df[mask]['shopping_pt'].value_counts().plot(kind=\"bar\", title=\"distribution of shopping points\")"
   ]
  },
  {
   "cell_type": "markdown",
   "metadata": {},
   "source": [
    "I first looked at the relationship between shopping_pt and location and expected that maybe people in one place took more time on collecting information before they made a decision.\n",
    "\n",
    "However, from the plot \"length of shopping_pt of customers in different states\" below: we can see that there's not much differece on length of shopping points in different states."
   ]
  },
  {
   "cell_type": "code",
   "execution_count": 13,
   "metadata": {},
   "outputs": [
    {
     "data": {
      "text/plain": [
       "Text(0.5,1,'length of shopping_pt of customers in different states')"
      ]
     },
     "execution_count": 13,
     "metadata": {},
     "output_type": "execute_result"
    },
    {
     "data": {
      "image/png": "[encoded data removed]",
      "text/plain": [
       "<Figure size 720x216 with 1 Axes>"
      ]
     },
     "metadata": {},
     "output_type": "display_data"
    }
   ],
   "source": [
    "# check purchase point\n",
    "mask = df['record_type']==1\n",
    "# groupby the data by state\n",
    "temp = df[mask].groupby('state')[['shopping_pt']].mean().sort_values(by='shopping_pt', ascending=False)\n",
    "x = temp.index\n",
    "y = temp['shopping_pt']\n",
    "# average shopping points\n",
    "avg_shoppts = df.groupby('customer_ID')['shopping_pt'].count().sum() * 1.0 /  num_customer\n",
    "sns.set(style=\"whitegrid\")\n",
    "f, ax = plt.subplots(figsize=(10, 3))\n",
    "sns.barplot(x, y, palette=\"GnBu_r\", ax=ax)\n",
    "plt.axhline(y=avg_shoppts, color=\"black\")\n",
    "plt.title(\"length of shopping_pt of customers in different states\")"
   ]
  },
  {
   "cell_type": "markdown",
   "metadata": {},
   "source": [
    "#### (2) day \n",
    "Then I visualized the variable \"day\" and wondered what would be the time difference between the point when the customer got the first quoted price and the point when he/she made the purchase. Sometimes the customer needs the car insurance the very next day if he/she plans to buy a car. From the plot \"within x day(s) the customers made the purchase\" we can see that most customers made the purchase on the same day. This tells us that the company should act fast and pay attention to the customer when he/she made the first quote. "
   ]
  },
  {
   "cell_type": "code",
   "execution_count": 7,
   "metadata": {},
   "outputs": [],
   "source": [
    "mask = (df['record_type'] == 1) | (df['shopping_pt']==1) \n",
    "temp = df[mask].groupby(['customer_ID', 'day'])[['day']].count().unstack()\n",
    "def cal_diff(s):\n",
    "    ''' the difference between the first shopping point and the last shopping point'''\n",
    "    if s.max() > 1:# purchase made on the same day\n",
    "        s['d'] = 1\n",
    "    else: # purchase made on different days\n",
    "        s_index = s[s==1]['day'].index\n",
    "        s['d'] =  s_index[1] -  s_index[0]\n",
    "    return s['d']\n",
    "diff_day = temp.apply(cal_diff, axis=1)"
   ]
  },
  {
   "cell_type": "code",
   "execution_count": 8,
   "metadata": {
    "scrolled": true
   },
   "outputs": [
    {
     "data": {
      "text/plain": [
       "Text(0.5,1,'within x day(s) the customers made the purchase')"
      ]
     },
     "execution_count": 8,
     "metadata": {},
     "output_type": "execute_result"
    },
    {
     "data": {
      "image/png": "[encoded data removed]",
      "text/plain": [
       "<Figure size 432x288 with 1 Axes>"
      ]
     },
     "metadata": {},
     "output_type": "display_data"
    }
   ],
   "source": [
    "diff_day.hist()\n",
    "ylabel(\"freq\")\n",
    "title(\"within x day(s) the customers made the purchase\")"
   ]
  },
  {
   "cell_type": "markdown",
   "metadata": {},
   "source": [
    "Here I visualized the variable \"day\" to see at which day customers were shopping and purchasing. If we can find out that the customers shop and purchase at a certain day or time, the company can relocate its resources, better serves its customers, and possibly get more sales.  \n",
    "\n",
    "From the plot \"at which day customers are shopping and purchasing\" below, we can see a peak at Friday for purchasing. In addition, we can see that lots of customers were shopping and purchasing during weekdays; relatively few people shop around during weekends. "
   ]
  },
  {
   "cell_type": "code",
   "execution_count": 9,
   "metadata": {},
   "outputs": [
    {
     "data": {
      "text/plain": [
       "<matplotlib.legend.Legend at 0x15435fd0>"
      ]
     },
     "execution_count": 9,
     "metadata": {},
     "output_type": "execute_result"
    },
    {
     "data": {
      "image/png": "[encoded data removed]",
      "text/plain": [
       "<Figure size 432x288 with 1 Axes>"
      ]
     },
     "metadata": {},
     "output_type": "display_data"
    }
   ],
   "source": [
    "# shopping\n",
    "index = df[mask]['record_type'] == 0\n",
    "df[mask][index].groupby(['customer_ID', 'day'])[['day']].count().unstack().sum(axis=0).plot(kind='line', label=\"shopping\")\n",
    "# purchasing\n",
    "index = df[mask]['record_type'] == 1\n",
    "df[mask][index].groupby(['customer_ID', 'day'])[['day']].count().unstack().sum(axis=0).plot(kind='line', label=\"purchasing\")\n",
    "xlabel(\"weekday\")\n",
    "title(\"at which day customers are shopping and purchasing\")\n",
    "legend(numpoints=1, loc='best')"
   ]
  },
  {
   "cell_type": "markdown",
   "metadata": {},
   "source": [
    "#### (3) Insurance Type\n",
    "\n"
   ]
  },
  {
   "cell_type": "markdown",
   "metadata": {},
   "source": [
    "Let's look at the distribution of each insurance type. We can see that every distribution is right skewed. "
   ]
  },
  {
   "cell_type": "code",
   "execution_count": 205,
   "metadata": {},
   "outputs": [
    {
     "data": {
      "text/plain": [
       "<matplotlib.axes._subplots.AxesSubplot at 0x24096828>"
      ]
     },
     "execution_count": 205,
     "metadata": {},
     "output_type": "execute_result"
    },
    {
     "data": {
      "image/png": "[encoded data removed]",
      "text/plain": [
       "<Figure size 1152x144 with 4 Axes>"
      ]
     },
     "metadata": {},
     "output_type": "display_data"
    },
    {
     "data": {
      "image/png": "[encoded data removed]",
      "text/plain": [
       "<Figure size 864x144 with 3 Axes>"
      ]
     },
     "metadata": {},
     "output_type": "display_data"
    }
   ],
   "source": [
    "f, axes = plt.subplots(1, 4, sharey=False, figsize=(16, 2))\n",
    "mask = df['record_type']==1\n",
    "df[mask]['A'].value_counts().plot(kind=\"bar\", ax=axes[0], title=\"Type A distribution\")\n",
    "df[mask]['B'].value_counts().plot(kind=\"bar\", ax=axes[1], title=\"Type B distribution\")\n",
    "df[mask]['C'].value_counts().plot(kind=\"bar\", ax=axes[2], title=\"Type C distribution\")\n",
    "df[mask]['D'].value_counts().plot(kind=\"bar\", ax=axes[3], title=\"Type D distribution\")\n",
    "f, axes = plt.subplots(1, 3, sharey=False, figsize=(12, 2))\n",
    "df[mask]['E'].value_counts().plot(kind=\"bar\", ax=axes[0], title=\"Type E distribution\")\n",
    "df[mask]['F'].value_counts().plot(kind=\"bar\", ax=axes[1], title=\"Type F distribution\")\n",
    "df[mask]['G'].value_counts().plot(kind=\"bar\", ax=axes[2], title=\"Type G distribution\")\n"
   ]
  },
  {
   "cell_type": "markdown",
   "metadata": {},
   "source": [
    "Here I looked at the correlation between each type of insurance. We can see that the type C and type D has a medium correlation of 0.61; type A and F has a correlation of 0.53."
   ]
  },
  {
   "cell_type": "code",
   "execution_count": 16,
   "metadata": {},
   "outputs": [
    {
     "data": {
      "text/plain": [
       "<matplotlib.axes._subplots.AxesSubplot at 0x1250eda0>"
      ]
     },
     "execution_count": 16,
     "metadata": {},
     "output_type": "execute_result"
    },
    {
     "data": {
      "image/png": "[encoded data removed]",
      "text/plain": [
       "<Figure size 432x288 with 2 Axes>"
      ]
     },
     "metadata": {},
     "output_type": "display_data"
    }
   ],
   "source": [
    "mask = df['record_type']==1\n",
    "corr_type = df[mask][['A', 'B', 'C', 'D', 'E', 'F', 'G']].corr()\n",
    "sns.heatmap(corr_type, annot=True, cmap=\"Blues\")"
   ]
  },
  {
   "cell_type": "markdown",
   "metadata": {},
   "source": [
    "Here I combined all the insurance type into one column \"combine\". I'm interested to see whether the customer bought the insurance product that he/she searched the most. The answer is Yes. From the plot below, more than 60% of customers actually did purchase what they looked at the most."
   ]
  },
  {
   "cell_type": "code",
   "execution_count": 15,
   "metadata": {},
   "outputs": [
    {
     "data": {
      "text/plain": [
       "Text(0.5,1,'would customers purchase the policy that they looked most times?')"
      ]
     },
     "execution_count": 15,
     "metadata": {},
     "output_type": "execute_result"
    },
    {
     "data": {
      "image/png": "[encoded data removed]",
      "text/plain": [
       "<Figure size 432x288 with 1 Axes>"
      ]
     },
     "metadata": {},
     "output_type": "display_data"
    }
   ],
   "source": [
    "# combine types of insurance\n",
    "df['combine'] = df['A'].astype(str) + df['B'].astype(str) + df['C'].astype(str) + df['D'].astype(str) + df['E'].astype(str) + df['F'].astype(str) + df['G'].astype(str)\n",
    "# summarize the combined insurance and count the number of search. \n",
    "d1 = df.groupby(['customer_ID', 'combine'])[['combine']].count()\n",
    "# d2 has two columns: customer ID and the combined insruance which is searched the most\n",
    "d2 = d1.unstack('combine').T.reset_index().set_index('combine')\n",
    "d2 = pd.DataFrame(d2.drop(columns='level_0').idxmax())\n",
    "d2.columns = ['combine']\n",
    "d2.reset_index(inplace=True)\n",
    "# select has two columns: customer ID and the combined insruance bought \n",
    "index = df['record_type'] == 1\n",
    "select = df[index][['customer_ID', 'combine']].reset_index().drop(columns='index')\n",
    "# merge two dataset: d2 and select\n",
    "new_data = d2.merge(select, left_on='customer_ID', right_on='customer_ID', suffixes=['_most', '_chosen'])\n",
    "# if the one searched the most and the one bought matched, then return true\n",
    "new_data['is'] = new_data['combine_most'] == new_data['combine_chosen']\n",
    "(new_data['is'].value_counts()/num_customer).plot(kind='bar')\n",
    "title('would customers purchase the policy that they looked most times?')"
   ]
  },
  {
   "cell_type": "markdown",
   "metadata": {},
   "source": [
    "I'm also interested in recency effect. Does a customer tend to buy things that he searched just recently? I looked at the last two shopping points and wanted to compare the insurance type at these two points. From the plot below, we can see that a majority of customers (a little below 70%) would buy the insurance product that they looked at one shopping point before purchase. "
   ]
  },
  {
   "cell_type": "code",
   "execution_count": 86,
   "metadata": {},
   "outputs": [
    {
     "data": {
      "text/plain": [
       "Text(0.5,1,'Does the customer buy insurance that he/she just searched recently?')"
      ]
     },
     "execution_count": 86,
     "metadata": {},
     "output_type": "execute_result"
    },
    {
     "data": {
      "image/png": "[encoded data removed]",
      "text/plain": [
       "<Figure size 432x288 with 1 Axes>"
      ]
     },
     "metadata": {},
     "output_type": "display_data"
    }
   ],
   "source": [
    "# take out the last two shopping points for all customers\n",
    "mask = df['record_type'] == 1\n",
    "temp = df[mask.shift(-1) | mask]\n",
    "temp1 = temp.groupby(['customer_ID', 'combine'])[['combine']].count()\n",
    "temp2 = (temp1['combine']==2).value_counts()\n",
    "temp2[0] = num_customer - sum(temp1['combine']==2)\n",
    "(temp2/num_customer).plot(kind=\"bar\")\n",
    "title(\"Does the customer buy insurance that he/she just searched recently?\")"
   ]
  },
  {
   "cell_type": "markdown",
   "metadata": {},
   "source": [
    "#### (4) Price\n",
    "\n",
    "Here I paid close attention to the last two shopping points. What could be the reason that the customer made the decision to purchase? They were tired of quoting? Maybe the price is acceptable at the last two points? \n",
    "\n",
    "By comparing the price difference at the last two shopping points given the same insusrance combination, we can see that difference concertrates near zero. The odd part is that several people made the purchase after the price went up by over $100. Remember, this is the same insurance product. Maybe these people are super rich?   \n",
    "\n"
   ]
  },
  {
   "cell_type": "code",
   "execution_count": 17,
   "metadata": {
    "scrolled": true
   },
   "outputs": [
    {
     "data": {
      "text/plain": [
       "Text(0.5,1,'The price change of the same insurance type at the last two shopping_pts')"
      ]
     },
     "execution_count": 17,
     "metadata": {},
     "output_type": "execute_result"
    },
    {
     "data": {
      "image/png": "[encoded data removed]",
      "text/plain": [
       "<Figure size 432x288 with 1 Axes>"
      ]
     },
     "metadata": {},
     "output_type": "display_data"
    }
   ],
   "source": [
    "mask1 = df['record_type'] == 1\n",
    "mask_merged = mask1.shift(-1).fillna(True) | mask1\n",
    "df1 = df[mask_merged]\n",
    "check_combine = [None] * len(df1)\n",
    "for i in [x * 2 for x in range(len(df1)/2)]:\n",
    "    if df1.iloc[i]['combine'] == df1.iloc[i+1]['combine']:\n",
    "        check_combine[i] = True\n",
    "        check_combine[i+1] = True\n",
    "    else:\n",
    "        check_combine[i] = False\n",
    "        check_combine[i+1] = False\n",
    "check_combine_diff = [not i for i in check_combine]\n",
    "diff_cost = df1[check_combine].groupby(['customer_ID'])[['cost']].diff().dropna()\n",
    "diff_cost_diff = df1[check_combine_diff].groupby(['customer_ID'])[['cost']].diff().dropna()\n",
    "# when people buy the policy, does the price drop compared to the previous quote if they checked the same policy?\n",
    "plot(diff_cost, marker='o', linestyle='None')\n",
    "title('The price change of the same insurance type at the last two shopping_pts')"
   ]
  },
  {
   "cell_type": "markdown",
   "metadata": {},
   "source": [
    "####  Data Cleaning"
   ]
  },
  {
   "cell_type": "markdown",
   "metadata": {},
   "source": [
    "Because there's so many NA values in risk_factor, car_value, C_previous, and duration_previous, I decided to drop the NA values. I also transformed the value of \"car_value\" from a,b,c,d,.. to 1,2,3,4.."
   ]
  },
  {
   "cell_type": "code",
   "execution_count": 14,
   "metadata": {},
   "outputs": [],
   "source": [
    "mask1 = df['record_type'] == 1\n",
    "temp = df[mask1].copy()\n",
    "temp.dropna(inplace=True)\n",
    "temp['car_value'] = temp['car_value'].map(ord) - 96\n",
    "X = temp[['location', 'group_size', 'homeowner', 'car_age', 'car_value', 'risk_factor', 'age_oldest', 'married_couple', 'C_previous', 'duration_previous', 'cost']]\n",
    "Y = temp[['A', 'B', 'C', 'D', 'E', 'F', 'G']]"
   ]
  },
  {
   "cell_type": "markdown",
   "metadata": {},
   "source": [
    "I will use the following X to train a knn model. (I tried KNN, Naivebayes, and RandomForest. KNN has the best accuracy for all types prediction)"
   ]
  },
  {
   "cell_type": "code",
   "execution_count": 151,
   "metadata": {},
   "outputs": [
    {
     "data": {
      "text/html": [
       "<div>\n",
       "<style scoped>\n",
       "    .dataframe tbody tr th:only-of-type {\n",
       "        vertical-align: middle;\n",
       "    }\n",
       "\n",
       "    .dataframe tbody tr th {\n",
       "        vertical-align: top;\n",
       "    }\n",
       "\n",
       "    .dataframe thead th {\n",
       "        text-align: right;\n",
       "    }\n",
       "</style>\n",
       "<table border=\"1\" class=\"dataframe\">\n",
       "  <thead>\n",
       "    <tr style=\"text-align: right;\">\n",
       "      <th></th>\n",
       "      <th>location</th>\n",
       "      <th>group_size</th>\n",
       "      <th>homeowner</th>\n",
       "      <th>car_age</th>\n",
       "      <th>car_value</th>\n",
       "      <th>risk_factor</th>\n",
       "      <th>age_oldest</th>\n",
       "      <th>married_couple</th>\n",
       "      <th>C_previous</th>\n",
       "      <th>duration_previous</th>\n",
       "      <th>cost</th>\n",
       "    </tr>\n",
       "  </thead>\n",
       "  <tbody>\n",
       "    <tr>\n",
       "      <th>8</th>\n",
       "      <td>10001</td>\n",
       "      <td>2</td>\n",
       "      <td>0</td>\n",
       "      <td>2</td>\n",
       "      <td>7</td>\n",
       "      <td>3.0</td>\n",
       "      <td>46</td>\n",
       "      <td>1</td>\n",
       "      <td>1.0</td>\n",
       "      <td>2.0</td>\n",
       "      <td>634</td>\n",
       "    </tr>\n",
       "    <tr>\n",
       "      <th>14</th>\n",
       "      <td>10006</td>\n",
       "      <td>1</td>\n",
       "      <td>0</td>\n",
       "      <td>10</td>\n",
       "      <td>5</td>\n",
       "      <td>4.0</td>\n",
       "      <td>28</td>\n",
       "      <td>0</td>\n",
       "      <td>3.0</td>\n",
       "      <td>13.0</td>\n",
       "      <td>731</td>\n",
       "    </tr>\n",
       "    <tr>\n",
       "      <th>26</th>\n",
       "      <td>10014</td>\n",
       "      <td>2</td>\n",
       "      <td>1</td>\n",
       "      <td>3</td>\n",
       "      <td>4</td>\n",
       "      <td>3.0</td>\n",
       "      <td>62</td>\n",
       "      <td>1</td>\n",
       "      <td>3.0</td>\n",
       "      <td>3.0</td>\n",
       "      <td>626</td>\n",
       "    </tr>\n",
       "  </tbody>\n",
       "</table>\n",
       "</div>"
      ],
      "text/plain": [
       "    location  group_size  homeowner  car_age  car_value  risk_factor  \\\n",
       "8      10001           2          0        2          7          3.0   \n",
       "14     10006           1          0       10          5          4.0   \n",
       "26     10014           2          1        3          4          3.0   \n",
       "\n",
       "    age_oldest  married_couple  C_previous  duration_previous  cost  \n",
       "8           46               1         1.0                2.0   634  \n",
       "14          28               0         3.0               13.0   731  \n",
       "26          62               1         3.0                3.0   626  "
      ]
     },
     "execution_count": 151,
     "metadata": {},
     "output_type": "execute_result"
    }
   ],
   "source": [
    "X[0:3]"
   ]
  },
  {
   "cell_type": "code",
   "execution_count": 112,
   "metadata": {},
   "outputs": [
    {
     "data": {
      "text/html": [
       "<div>\n",
       "<style scoped>\n",
       "    .dataframe tbody tr th:only-of-type {\n",
       "        vertical-align: middle;\n",
       "    }\n",
       "\n",
       "    .dataframe tbody tr th {\n",
       "        vertical-align: top;\n",
       "    }\n",
       "\n",
       "    .dataframe thead th {\n",
       "        text-align: right;\n",
       "    }\n",
       "</style>\n",
       "<table border=\"1\" class=\"dataframe\">\n",
       "  <thead>\n",
       "    <tr style=\"text-align: right;\">\n",
       "      <th></th>\n",
       "      <th>A</th>\n",
       "      <th>B</th>\n",
       "      <th>C</th>\n",
       "      <th>D</th>\n",
       "      <th>E</th>\n",
       "      <th>F</th>\n",
       "      <th>G</th>\n",
       "    </tr>\n",
       "  </thead>\n",
       "  <tbody>\n",
       "    <tr>\n",
       "      <th>8</th>\n",
       "      <td>1</td>\n",
       "      <td>0</td>\n",
       "      <td>2</td>\n",
       "      <td>2</td>\n",
       "      <td>1</td>\n",
       "      <td>2</td>\n",
       "      <td>1</td>\n",
       "    </tr>\n",
       "    <tr>\n",
       "      <th>14</th>\n",
       "      <td>0</td>\n",
       "      <td>0</td>\n",
       "      <td>3</td>\n",
       "      <td>2</td>\n",
       "      <td>0</td>\n",
       "      <td>0</td>\n",
       "      <td>2</td>\n",
       "    </tr>\n",
       "    <tr>\n",
       "      <th>26</th>\n",
       "      <td>1</td>\n",
       "      <td>1</td>\n",
       "      <td>3</td>\n",
       "      <td>2</td>\n",
       "      <td>1</td>\n",
       "      <td>1</td>\n",
       "      <td>3</td>\n",
       "    </tr>\n",
       "  </tbody>\n",
       "</table>\n",
       "</div>"
      ],
      "text/plain": [
       "    A  B  C  D  E  F  G\n",
       "8   1  0  2  2  1  2  1\n",
       "14  0  0  3  2  0  0  2\n",
       "26  1  1  3  2  1  1  3"
      ]
     },
     "execution_count": 112,
     "metadata": {},
     "output_type": "execute_result"
    }
   ],
   "source": [
    "Y[0:3]"
   ]
  },
  {
   "cell_type": "markdown",
   "metadata": {},
   "source": [
    "#### Predictive Modeling"
   ]
  },
  {
   "cell_type": "code",
   "execution_count": 15,
   "metadata": {},
   "outputs": [],
   "source": [
    "# package used\n",
    "from sklearn.model_selection import train_test_split\n",
    "from sklearn.naive_bayes import GaussianNB\n",
    "from sklearn import neighbors\n",
    "from sklearn import metrics\n",
    "from sklearn.ensemble import RandomForestClassifier"
   ]
  },
  {
   "cell_type": "markdown",
   "metadata": {},
   "source": [
    "Let's fit a KNN model using every predictor in X. Just to show how bad the accuracy is. From the accuracy below, we can see that the demographic information has little prediction power. From the confusion matrix, we can see many zeros on the right side of the confusion matrix. One explanation would be that the data is right skewed as we can see from EDA. \n"
   ]
  },
  {
   "cell_type": "code",
   "execution_count": 16,
   "metadata": {},
   "outputs": [
    {
     "name": "stdout",
     "output_type": "stream",
     "text": [
      "Type A prediction\n",
      "accuracy 0.6610713998875593\n",
      "[[ 152 2255    0]\n",
      " [  15 8079    0]\n",
      " [   3 1947    0]]\n",
      "Type B prediction\n",
      "accuracy 0.550879447433941\n",
      "[[3952 2440]\n",
      " [3152 2907]]\n",
      "Type C prediction\n",
      "accuracy 0.4507268492490563\n",
      "[[ 107    1 2685    0]\n",
      " [  50    1 2440    0]\n",
      " [  86    4 5504    0]\n",
      " [  18    2 1553    0]]\n",
      "Type D prediction\n",
      "accuracy 0.7146413942655209\n",
      "[[   0    0 1035]\n",
      " [   0    0 2518]\n",
      " [   0    0 8898]]\n",
      "Type E prediction\n",
      "accuracy 0.6250100393542687\n",
      "[[2973 3243]\n",
      " [1426 4809]]\n",
      "Type F prediction\n",
      "accuracy 0.4421331619950205\n",
      "[[2234  276 1818    0]\n",
      " [ 865  402 1861    0]\n",
      " [1169  415 2869    0]\n",
      " [ 182   48  312    0]]\n",
      "Type G prediction\n",
      "accuracy 0.4310497148823388\n",
      "[[  34 1061  962    0]\n",
      " [  23 2542 1929    0]\n",
      " [  22 1693 2791    0]\n",
      " [   8  538  848    0]]\n"
     ]
    }
   ],
   "source": [
    "X_train, X_test, y_train, y_test = train_test_split(X, Y['A'], test_size=0.2, random_state=12)\n",
    "knn = neighbors.KNeighborsClassifier(n_neighbors=200, weights='uniform', p=2)\n",
    "knn.fit(X_train, y_train)\n",
    "y_pred = knn.predict(X_test)\n",
    "print \"Type A prediction\"\n",
    "print \"accuracy\", metrics.accuracy_score(y_test, y_pred)\n",
    "print metrics.confusion_matrix(y_test, y_pred)\n",
    "\n",
    "X_train, X_test, y_train, y_test = train_test_split(X, Y['B'], test_size=0.2, random_state=12)\n",
    "knn = neighbors.KNeighborsClassifier(n_neighbors=200, weights='uniform', p=2)\n",
    "knn.fit(X_train, y_train)\n",
    "y_pred = knn.predict(X_test)\n",
    "print \"Type B prediction\"\n",
    "print \"accuracy\", metrics.accuracy_score(y_test, y_pred)\n",
    "print metrics.confusion_matrix(y_test, y_pred)\n",
    "\n",
    "X_train, X_test, y_train, y_test = train_test_split(X, Y['C'], test_size=0.2, random_state=12)\n",
    "knn = neighbors.KNeighborsClassifier(n_neighbors=200, weights='uniform', p=2)\n",
    "knn.fit(X_train, y_train)\n",
    "y_pred = knn.predict(X_test)\n",
    "print \"Type C prediction\"\n",
    "print \"accuracy\", metrics.accuracy_score(y_test, y_pred)\n",
    "print metrics.confusion_matrix(y_test, y_pred)\n",
    "\n",
    "X_train, X_test, y_train, y_test = train_test_split(X, Y['D'], test_size=0.2, random_state=12)\n",
    "knn = neighbors.KNeighborsClassifier(n_neighbors=200, weights='uniform', p=2)\n",
    "knn.fit(X_train, y_train)\n",
    "y_pred = knn.predict(X_test)\n",
    "print \"Type D prediction\"\n",
    "print \"accuracy\", metrics.accuracy_score(y_test, y_pred)\n",
    "print metrics.confusion_matrix(y_test, y_pred)\n",
    "\n",
    "X_train, X_test, y_train, y_test = train_test_split(X, Y['E'], test_size=0.2, random_state=12)\n",
    "knn = neighbors.KNeighborsClassifier(n_neighbors=200, weights='uniform', p=2)\n",
    "knn.fit(X_train, y_train)\n",
    "y_pred = knn.predict(X_test)\n",
    "print \"Type E prediction\"\n",
    "print \"accuracy\", metrics.accuracy_score(y_test, y_pred)\n",
    "print metrics.confusion_matrix(y_test, y_pred)\n",
    "\n",
    "X_train, X_test, y_train, y_test = train_test_split(X, Y['F'], test_size=0.2, random_state=12)\n",
    "knn = neighbors.KNeighborsClassifier(n_neighbors=200, weights='uniform', p=2)\n",
    "knn.fit(X_train, y_train)\n",
    "y_pred = knn.predict(X_test)\n",
    "print \"Type F prediction\"\n",
    "print \"accuracy\", metrics.accuracy_score(y_test, y_pred)\n",
    "print metrics.confusion_matrix(y_test, y_pred)\n",
    "\n",
    "X_train, X_test, y_train, y_test = train_test_split(X, Y['G'], test_size=0.2, random_state=12)\n",
    "knn = neighbors.KNeighborsClassifier(n_neighbors=200, weights='uniform', p=2)\n",
    "knn.fit(X_train, y_train)\n",
    "y_pred = knn.predict(X_test)\n",
    "print \"Type G prediction\"\n",
    "print \"accuracy\", metrics.accuracy_score(y_test, y_pred)\n",
    "print metrics.confusion_matrix(y_test, y_pred)"
   ]
  },
  {
   "cell_type": "markdown",
   "metadata": {},
   "source": [
    "However, if we only use the insurance type that the customer searched before they made a purchase, the accuracy will be more than 90%. Thus, we know that customer shopping history alone has more prediction power than his/her demographic information. "
   ]
  },
  {
   "cell_type": "code",
   "execution_count": 17,
   "metadata": {},
   "outputs": [],
   "source": [
    "import warnings\n",
    "warnings.filterwarnings('ignore')\n",
    "X_new = X.copy()\n",
    "X_new['A_pre'] = df.iloc[X.index-1]['A'].values\n",
    "X_new['B_pre'] = df.iloc[X.index-1]['B'].values\n",
    "X_new['C_pre'] = df.iloc[X.index-1]['C'].values\n",
    "X_new['D_pre'] = df.iloc[X.index-1]['D'].values\n",
    "X_new['E_pre'] = df.iloc[X.index-1]['E'].values\n",
    "X_new['F_pre'] = df.iloc[X.index-1]['F'].values\n",
    "X_new['G_pre'] = df.iloc[X.index-1]['G'].values"
   ]
  },
  {
   "cell_type": "markdown",
   "metadata": {},
   "source": [
    "Let's try Naivebayes here. "
   ]
  },
  {
   "cell_type": "code",
   "execution_count": 18,
   "metadata": {},
   "outputs": [
    {
     "name": "stdout",
     "output_type": "stream",
     "text": [
      "Type A prediction\n",
      "0.9369056797738371\n",
      "[[2769  202   52]\n",
      " [ 159 9762  174]\n",
      " [  38  357 2051]]\n",
      "Type B prediction\n",
      "0.9304163454124904\n",
      "[[7536  509]\n",
      " [ 574 6945]]\n",
      "Type C prediction\n",
      "0.9323438704703161\n",
      "[[3281  128   73    5]\n",
      " [ 152 2746  176   12]\n",
      " [ 102  129 6700   76]\n",
      " [  18   21  161 1784]]\n",
      "Type E prediction\n",
      "0.9554099203289643\n",
      "[[ 1208    49    23]\n",
      " [  111  2949   111]\n",
      " [  116   284 10713]]\n",
      "Type E prediction\n",
      "0.9383834489848368\n",
      "[[7377  387]\n",
      " [ 572 7228]]\n",
      "Type F prediction\n",
      "0.9399254690310974\n",
      "[[5244   49  106   15]\n",
      " [  62 3634  229   22]\n",
      " [ 100  167 5195   64]\n",
      " [  18   19   84  556]]\n"
     ]
    }
   ],
   "source": [
    "X_A = X_new[['A_pre']]\n",
    "Y_A = Y['A']\n",
    "X_train, X_test, y_train, y_test = train_test_split(X_A, Y_A, test_size=0.25, random_state=12)\n",
    "gnb = GaussianNB()\n",
    "y_pred = gnb.fit(X_train, y_train).predict(X_test)\n",
    "print \"Type A prediction\"\n",
    "print metrics.accuracy_score(y_test, y_pred)\n",
    "print metrics.confusion_matrix(y_test, y_pred)\n",
    "\n",
    "X_B = X_new[['B_pre']]\n",
    "Y_B = Y['B']\n",
    "X_train, X_test, y_train, y_test = train_test_split(X_B, Y_B, test_size=0.25, random_state=12)\n",
    "gnb = GaussianNB()\n",
    "y_pred = gnb.fit(X_train, y_train).predict(X_test)\n",
    "print \"Type B prediction\"\n",
    "print metrics.accuracy_score(y_test, y_pred)\n",
    "print metrics.confusion_matrix(y_test, y_pred)\n",
    "\n",
    "X_C = X_new[['C_pre']]\n",
    "Y_C = Y['C']\n",
    "X_train, X_test, y_train, y_test = train_test_split(X_C, Y_C, test_size=0.25, random_state=12)\n",
    "gnb = GaussianNB()\n",
    "y_pred = gnb.fit(X_train, y_train).predict(X_test)\n",
    "print \"Type C prediction\"\n",
    "print metrics.accuracy_score(y_test, y_pred)\n",
    "print metrics.confusion_matrix(y_test, y_pred)\n",
    "\n",
    "X_D = X_new[['D_pre']]\n",
    "Y_D = Y['D']\n",
    "X_train, X_test, y_train, y_test = train_test_split(X_D, Y_D, test_size=0.25, random_state=12)\n",
    "gnb = GaussianNB()\n",
    "y_pred = gnb.fit(X_train, y_train).predict(X_test)\n",
    "print \"Type E prediction\"\n",
    "print metrics.accuracy_score(y_test, y_pred)\n",
    "print metrics.confusion_matrix(y_test, y_pred)\n",
    "\n",
    "X_E = X_new[['E_pre']]\n",
    "Y_E = Y['E']\n",
    "X_train, X_test, y_train, y_test = train_test_split(X_E, Y_E, test_size=0.25, random_state=12)\n",
    "gnb = GaussianNB()\n",
    "y_pred = gnb.fit(X_train, y_train).predict(X_test)\n",
    "print \"Type E prediction\"\n",
    "print metrics.accuracy_score(y_test, y_pred)\n",
    "print metrics.confusion_matrix(y_test, y_pred)\n",
    "\n",
    "X_F = X_new[['F_pre']]\n",
    "Y_F = Y['F']\n",
    "X_train, X_test, y_train, y_test = train_test_split(X_F, Y_F, test_size=0.25, random_state=12)\n",
    "gnb = GaussianNB()\n",
    "y_pred = gnb.fit(X_train, y_train).predict(X_test)\n",
    "print \"Type F prediction\"\n",
    "print metrics.accuracy_score(y_test, y_pred)\n",
    "print metrics.confusion_matrix(y_test, y_pred)"
   ]
  },
  {
   "cell_type": "markdown",
   "metadata": {},
   "source": [
    "However, in reality, we won't have this piece of information until one shopping point before the customer made a purchase. Thus, I will use the insurance type information from the three shopping points before purchase (The average shopping points is over 6). "
   ]
  },
  {
   "cell_type": "code",
   "execution_count": 19,
   "metadata": {},
   "outputs": [],
   "source": [
    "import warnings\n",
    "warnings.filterwarnings('ignore')\n",
    "X_newer = X.copy()\n",
    "X_newer['A_pre'] = df.iloc[X.index-4]['A'].values\n",
    "X_newer['B_pre'] = df.iloc[X.index-4]['B'].values\n",
    "X_newer['C_pre'] = df.iloc[X.index-4]['C'].values\n",
    "X_newer['D_pre'] = df.iloc[X.index-4]['D'].values\n",
    "X_newer['E_pre'] = df.iloc[X.index-4]['E'].values\n",
    "X_newer['F_pre'] = df.iloc[X.index-4]['F'].values\n",
    "X_newer['G_pre'] = df.iloc[X.index-4]['G'].values"
   ]
  },
  {
   "cell_type": "markdown",
   "metadata": {},
   "source": [
    "Here's a example of how accuracy deceases for type A prediction! This accuracy is still better than the prediction accuracy by demographic informaion, which means, a little information on customers' preference is better than nothing!"
   ]
  },
  {
   "cell_type": "code",
   "execution_count": 43,
   "metadata": {},
   "outputs": [
    {
     "name": "stdout",
     "output_type": "stream",
     "text": [
      "Type A prediction\n",
      "0.8123233102030326\n",
      "[[2191  675  157]\n",
      " [ 706 8905  484]\n",
      " [ 178  721 1547]]\n"
     ]
    }
   ],
   "source": [
    "X_A = X_newer[['A_pre']]\n",
    "Y_A = Y['A']\n",
    "X_train, X_test, y_train, y_test = train_test_split(X_A, Y_A, test_size=0.25, random_state=12)\n",
    "gnb = GaussianNB()\n",
    "y_pred = gnb.fit(X_train, y_train).predict(X_test)\n",
    "print \"Type A prediction\"\n",
    "print metrics.accuracy_score(y_test, y_pred)\n",
    "print metrics.confusion_matrix(y_test, y_pred)"
   ]
  },
  {
   "cell_type": "markdown",
   "metadata": {},
   "source": [
    "Now, let's add demographic information for prediction and see how the prediction accuracy changes. Notice that for some types of insurance, I didn't add the demographic information because the accuracy would decrease. That type of insurance could be liability insurance, which is not related to demographic information. "
   ]
  },
  {
   "cell_type": "code",
   "execution_count": 22,
   "metadata": {},
   "outputs": [
    {
     "name": "stdout",
     "output_type": "stream",
     "text": [
      "Type A prediction\n",
      "Accuracy 0.8331405808275507\n",
      "[[2464  451  108]\n",
      " [ 590 8956  549]\n",
      " [ 151  748 1547]]\n"
     ]
    }
   ],
   "source": [
    "X_A = X_newer[['location', 'group_size', 'homeowner', 'car_age', 'car_value', 'risk_factor', 'age_oldest', 'C_previous', 'duration_previous', 'cost', 'A_pre']]\n",
    "Y_A = Y['A']\n",
    "X_train, X_test, y_train, y_test = train_test_split(X_A, Y_A, test_size=0.25, random_state=12)\n",
    "y_pred = gnb.fit(X_train, y_train).predict(X_test)\n",
    "print \"Type A prediction\"\n",
    "print \"Accuracy\", metrics.accuracy_score(y_test, y_pred)\n",
    "print metrics.confusion_matrix(y_test, y_pred)"
   ]
  },
  {
   "cell_type": "code",
   "execution_count": 41,
   "metadata": {},
   "outputs": [
    {
     "name": "stdout",
     "output_type": "stream",
     "text": [
      "Type B prediction\n",
      "Accuracy 0.819005397070162\n",
      "[[6799 1246]\n",
      " [1571 5948]]\n"
     ]
    }
   ],
   "source": [
    "X_B = X_newer[['location', 'group_size', 'homeowner', 'car_age', 'car_value', 'risk_factor', 'age_oldest', 'C_previous', 'duration_previous', 'cost', 'B_pre']]\n",
    "Y_B = Y['B']\n",
    "X_train, X_test, y_train, y_test = train_test_split(X_B, Y_B, test_size=0.25, random_state=12)\n",
    "y_pred =  gnb.fit(X_train, y_train).predict(X_test)\n",
    "print \"Type B prediction\"\n",
    "print \"Accuracy\", metrics.accuracy_score(y_test, y_pred)\n",
    "print metrics.confusion_matrix(y_test, y_pred)"
   ]
  },
  {
   "cell_type": "code",
   "execution_count": 26,
   "metadata": {},
   "outputs": [
    {
     "name": "stdout",
     "output_type": "stream",
     "text": [
      "Type C prediction\n",
      "Accuracy 0.7511565150346955\n",
      "[[2820  402  237   28]\n",
      " [ 635 1562  859   30]\n",
      " [ 506  359 5856  286]\n",
      " [  75   24  432 1453]]\n"
     ]
    }
   ],
   "source": [
    "X_C = X_newer[['location', 'group_size', 'homeowner', 'car_age', 'car_value', 'risk_factor', 'age_oldest', 'C_previous', 'duration_previous', 'cost', 'C_pre']]\n",
    "Y_C = Y['C']\n",
    "X_train, X_test, y_train, y_test = train_test_split(X_C, Y_C, test_size=0.25, random_state=12)\n",
    "y_pred = gnb.fit(X_train, y_train).predict(X_test)\n",
    "print \"Type C prediction\"\n",
    "print \"Accuracy\", metrics.accuracy_score(y_test, y_pred)\n",
    "print metrics.confusion_matrix(y_test, y_pred)"
   ]
  },
  {
   "cell_type": "code",
   "execution_count": 27,
   "metadata": {},
   "outputs": [
    {
     "name": "stdout",
     "output_type": "stream",
     "text": [
      "Type D prediction\n",
      "Accuracy 0.820290413775379\n",
      "[[  933   153   194]\n",
      " [  284  1648  1239]\n",
      " [  336   591 10186]]\n"
     ]
    }
   ],
   "source": [
    "X_D = X_newer[['location', 'group_size', 'homeowner', 'car_age', 'car_value', 'risk_factor', 'age_oldest', 'married_couple', 'C_previous', 'duration_previous', 'cost', 'D_pre']]\n",
    "Y_D = Y['D']\n",
    "X_train, X_test, y_train, y_test = train_test_split(X_D, Y_D, test_size=0.25, random_state=12)\n",
    "rf = RandomForestClassifier(random_state=23)\n",
    "y_pred =  gnb.fit(X_train, y_train).predict(X_test)\n",
    "print \"Type D prediction\"\n",
    "print \"Accuracy\", metrics.accuracy_score(y_test, y_pred)\n",
    "print metrics.confusion_matrix(y_test, y_pred)"
   ]
  },
  {
   "cell_type": "code",
   "execution_count": 28,
   "metadata": {},
   "outputs": [
    {
     "name": "stdout",
     "output_type": "stream",
     "text": [
      "Type E prediction\n",
      "Accuracy 0.8227319455152917\n",
      "[[6649 1115]\n",
      " [1644 6156]]\n"
     ]
    }
   ],
   "source": [
    "X_E = X_newer[['location', 'group_size', 'car_age', 'car_value', 'risk_factor', 'age_oldest', 'C_previous', 'duration_previous', 'cost', 'E_pre']]\n",
    "Y_E = Y['E']\n",
    "X_train, X_test, y_train, y_test = train_test_split(X_E, Y_E, test_size=0.25, random_state=12)\n",
    "rf = RandomForestClassifier(random_state=23)\n",
    "y_pred =  gnb.fit(X_train, y_train).predict(X_test)\n",
    "print \"Type E prediction\"\n",
    "print \"Accuracy\", metrics.accuracy_score(y_test, y_pred)\n",
    "print metrics.confusion_matrix(y_test, y_pred)"
   ]
  },
  {
   "cell_type": "code",
   "execution_count": 29,
   "metadata": {},
   "outputs": [
    {
     "name": "stdout",
     "output_type": "stream",
     "text": [
      "Type F prediction\n",
      "Accuracy 0.7509637625289128\n",
      "[[4688  154  559   13]\n",
      " [ 662 2399  885    1]\n",
      " [ 590  360 4551   25]\n",
      " [  81   37  509   50]]\n"
     ]
    }
   ],
   "source": [
    "X_F = X_newer[['location', 'group_size', 'car_age', 'car_value', 'risk_factor', 'age_oldest', 'C_previous', 'duration_previous', 'cost','F_pre']]\n",
    "Y_F = Y['F']\n",
    "X_train, X_test, y_train, y_test = train_test_split(X_F, Y_F, test_size=0.25, random_state=12)\n",
    "rf = RandomForestClassifier(random_state=23)\n",
    "y_pred =gnb.fit(X_train, y_train).predict(X_test)\n",
    "print \"Type F prediction\"\n",
    "print \"Accuracy\", metrics.accuracy_score(y_test, y_pred)\n",
    "print metrics.confusion_matrix(y_test, y_pred)"
   ]
  },
  {
   "cell_type": "code",
   "execution_count": 30,
   "metadata": {},
   "outputs": [
    {
     "name": "stdout",
     "output_type": "stream",
     "text": [
      "Type G prediction\n",
      "Accuracy 0.6743767668979697\n",
      "[[1441  793  253   67]\n",
      " [ 602 4300  560  195]\n",
      " [ 334  963 4058  279]\n",
      " [ 110  384  528  697]]\n"
     ]
    }
   ],
   "source": [
    "X_G = X_newer[['location', 'group_size', 'car_age', 'car_value', 'risk_factor', 'age_oldest', 'C_previous', 'duration_previous', 'cost','G_pre']]\n",
    "Y_G = Y['G']\n",
    "X_train, X_test, y_train, y_test = train_test_split(X_G, Y_G, test_size=0.25, random_state=12)\n",
    "rf = RandomForestClassifier(random_state=23)\n",
    "y_pred = rf.fit(X_train, y_train).predict(X_test)\n",
    "print \"Type G prediction\"\n",
    "print \"Accuracy\", metrics.accuracy_score(y_test, y_pred)\n",
    "print metrics.confusion_matrix(y_test, y_pred)"
   ]
  },
  {
   "cell_type": "markdown",
   "metadata": {},
   "source": [
    "### Conclusion"
   ]
  },
  {
   "cell_type": "markdown",
   "metadata": {},
   "source": [
    "Allstate can use both demographic information and shopping history to predict the potential purchase and send follow-up emails to these customers with discounts. Note that shopping history is more informative than demographic information. More attention should be given to the recent search and the one with the most search times. Allstate also needs to  follow up the customers immediately because customers usually make purchases within a day. Allstate can also relocate its resources because most customers shop around during weekdays."
   ]
  }
 ],
 "metadata": {
  "kernelspec": {
   "display_name": "Python 2",
   "language": "python",
   "name": "python2"
  },
  "language_info": {
   "codemirror_mode": {
    "name": "ipython",
    "version": 2
   },
   "file_extension": ".py",
   "mimetype": "text/x-python",
   "name": "python",
   "nbconvert_exporter": "python",
   "pygments_lexer": "ipython2",
   "version": "2.7.15"
  }
 },
 "nbformat": 4,
 "nbformat_minor": 2
}
